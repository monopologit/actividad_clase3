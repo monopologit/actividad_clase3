{
 "cells": [
  {
   "cell_type": "markdown",
   "metadata": {},
   "source": [
    "# Tarea Actividad 3"
   ]
  },
  {
   "cell_type": "markdown",
   "metadata": {},
   "source": [
    "Crear una lista de nombres de ciudades."
   ]
  },
  {
   "cell_type": "code",
   "execution_count": 2,
   "metadata": {},
   "outputs": [
    {
     "name": "stdout",
     "output_type": "stream",
     "text": [
      "Ciudades de Argentina:\n",
      "Buenos Aires\n",
      "Córdoba\n",
      "Rosario\n",
      "Mendoza\n",
      "Mar del Plata\n"
     ]
    }
   ],
   "source": [
    "ciudades_argentinas = [\"Buenos Aires\", \"Córdoba\", \"Rosario\", \"Mendoza\", \"Mar del Plata\"]\n",
    "print(\"Ciudades de Argentina:\")\n",
    "for ciudad in ciudades_argentinas:\n",
    "    print(ciudad)"
   ]
  },
  {
   "cell_type": "markdown",
   "metadata": {},
   "source": [
    "Crear un diccionario con información de empleados (nombre, cargo, salario).\n",
    "Mostrar cómo acceder a un elemento específico en una lista y en un diccionario."
   ]
  },
  {
   "cell_type": "code",
   "execution_count": 7,
   "metadata": {},
   "outputs": [
    {
     "name": "stdout",
     "output_type": "stream",
     "text": [
      "Cargo de Carlos: Gerente\n"
     ]
    }
   ],
   "source": [
    "empleados = {\n",
    "    \"Carlos\": {\"cargo\": \"Gerente\", \"salario\": 50000},\n",
    "    \"Ariel\": {\"cargo\": \"Analista\", \"salario\": 35000},\n",
    "    \"Perséfone\": {\"cargo\": \"Desarrollador\", \"salario\": 40000}\n",
    "}\n",
    "\n",
    "cargo_de_carlos = empleados[\"Carlos\"][\"cargo\"]\n",
    "print(\"Cargo de Carlos:\", cargo_de_carlos)"
   ]
  },
  {
   "cell_type": "markdown",
   "metadata": {},
   "source": [
    "Manipulación de Listas y Métodos:"
   ]
  },
  {
   "cell_type": "markdown",
   "metadata": {},
   "source": [
    "Crea una lista inicial de números enteros.\n",
    "-Utiliza el método .extend() para agregar múltiples elementos a la lista.\n",
    "-Utiliza el método .insert() para insertar un número en una posición específica de la lista.\n",
    "-Muestra cómo utilizar el método .sort() para ordenar la lista de números de forma ascendente."
   ]
  },
  {
   "cell_type": "code",
   "execution_count": 14,
   "metadata": {},
   "outputs": [
    {
     "name": "stdout",
     "output_type": "stream",
     "text": [
      "Lista de números enteros: [1, 2, 3, 4, 6, 7]\n",
      "Lista de números enteros: [1, 2, 3, 4, 6, 7, 8]\n",
      "Lista de números enteros actualizada: [1, 2, 3, 4, 5, 6, 7, 8]\n"
     ]
    }
   ],
   "source": [
    "numeros_enteros = [1, 2, 3, 4, 6, 7]\n",
    "print(\"Lista de números enteros:\", numeros_enteros)\n",
    "\n",
    "numeros_enteros.append(8)\n",
    "print(\"Lista de números enteros:\", numeros_enteros)\n",
    "\n",
    "numero_nuevo = 5\n",
    "posicion_insertar = 4\n",
    "numeros_enteros.insert(posicion_insertar, numero_nuevo)\n",
    "print(\"Lista de números enteros actualizada:\", numeros_enteros)\n"
   ]
  },
  {
   "cell_type": "markdown",
   "metadata": {},
   "source": [
    "Manipulación de Diccionarios y Métodos:\n",
    "-Crea un diccionario con información de productos (nombre del producto, precio, cantidad en stock).\n",
    "-Utiliza el método .keys() para obtener una lista de las llaves (nombres de productos) en el diccionario.\n",
    "-Utiliza el método .values() para obtener una lista de los valores (precios y cantidades) en el diccionario.\n",
    "-Utiliza el método .items() para obtener una lista de tuplas con pares clave-valor del diccionario.\n",
    "-Muestra cómo utilizar el método .get() para obtener el precio de un producto específico del diccionario."
   ]
  },
  {
   "cell_type": "code",
   "execution_count": 20,
   "metadata": {},
   "outputs": [
    {
     "name": "stdout",
     "output_type": "stream",
     "text": [
      "Diccionario de productos: {'Producto1': {'precio': 1000, 'cantidad_stock': 100}, 'Producto2': {'precio': 5950, 'cantidad_stock': 200}, 'Producto3': {'precio': 25000, 'cantidad_stock': 300}}\n",
      "Lista de nombres de productos: ['Producto1', 'Producto2', 'Producto3']\n",
      "Lista de valores de productos: [{'precio': 1000, 'cantidad_stock': 100}, {'precio': 5950, 'cantidad_stock': 200}, {'precio': 25000, 'cantidad_stock': 300}]\n",
      "Lista de tuplas con pares clave-valor:\n",
      "('Producto1', {'precio': 1000, 'cantidad_stock': 100})\n",
      "('Producto2', {'precio': 5950, 'cantidad_stock': 200})\n",
      "('Producto3', {'precio': 25000, 'cantidad_stock': 300})\n",
      "Precio del Producto3: 25000\n"
     ]
    }
   ],
   "source": [
    "productos = {\n",
    "    \"Producto1\": {\"precio\": 1000, \"cantidad_stock\": 100},\n",
    "    \"Producto2\": {\"precio\": 5950, \"cantidad_stock\": 200},\n",
    "    \"Producto3\": {\"precio\": 25000, \"cantidad_stock\": 300}\n",
    "}\n",
    "print(\"Diccionario de productos:\", productos)\n",
    "\n",
    "nombres_productos = list(productos.keys())\n",
    "print(\"Lista de nombres de productos:\", nombres_productos)\n",
    "\n",
    "valores_productos = list(productos.values())\n",
    "print(\"Lista de valores de productos:\", valores_productos)\n",
    "\n",
    "lista_tuplas = list(productos.items())\n",
    "print(\"Lista de tuplas con pares clave-valor:\")\n",
    "for tupla in lista_tuplas:\n",
    "    print(tupla)\n",
    "\n",
    "precio_producto3 = productos.get(\"Producto3\", {}).get(\"precio\")\n",
    "print(\"Precio del Producto3:\", precio_producto3)"
   ]
  },
  {
   "cell_type": "markdown",
   "metadata": {},
   "source": [
    "Datos Complejos:\n",
    "-Crear una lista de diccionarios que represente información de libros (título, autor, año de publicación).\n",
    "-Crear un diccionario que contenga listas como valores (por ejemplo, un diccionario de estudiantes y sus materias).\n",
    "-Mostrar cómo modificar un valor en una lista dentro de un diccionario y viceversa."
   ]
  },
  {
   "cell_type": "code",
   "execution_count": 22,
   "metadata": {},
   "outputs": [
    {
     "name": "stdout",
     "output_type": "stream",
     "text": [
      "Lista de libros:\n",
      "{'título': 'El Testamento de Maria', 'autor': 'Colm Toibin', 'año_publicación': 2014}\n",
      "{'título': 'El signo de los cuadros', 'autor': 'Arthur Conan Doyle', 'año_publicación': 2015}\n",
      "{'título': 'El Retrato de Dorian Gray', 'autor': 'Oscar Wilde', 'año_publicación': 1992}\n",
      "Diccionario de personas haciendo dieta y sus dietas asociadas:\n",
      "Carlos está siguiendo la siguiente dieta:\n",
      "- pollo a la plancha\n",
      "- ensalada verde\n",
      "- arroz integral\n",
      "Axel está siguiendo la siguiente dieta:\n",
      "- salmón al horno\n",
      "- brócoli al vapor\n",
      "- quinoa\n",
      "Jacinta está siguiendo la siguiente dieta:\n",
      "- batido de proteínas\n",
      "- ensalada de frutas\n",
      "- avena\n"
     ]
    }
   ],
   "source": [
    "libros = [\n",
    "    {\"título\": \"El Testamento de Maria\", \"autor\": \"Colm Toibin\", \"año_publicación\": 2014},\n",
    "    {\"título\": \"El signo de los cuadros\", \"autor\": \"Arthur Conan Doyle\", \"año_publicación\": 2015},\n",
    "    {\"título\": \"El Retrato de Dorian Gray\", \"autor\": \"Oscar Wilde\", \"año_publicación\": 1992}\n",
    "]\n",
    "print(\"Lista de libros:\")\n",
    "for libro in libros:\n",
    "    print(libro)\n",
    "\n",
    "personas_dietas = {\n",
    "    \"Carlos\": [\"pollo a la plancha\", \"ensalada verde\", \"arroz integral\"],\n",
    "    \"Axel\": [\"salmón al horno\", \"brócoli al vapor\", \"quinoa\"],\n",
    "    \"Jacinta\": [\"batido de proteínas\", \"ensalada de frutas\", \"avena\"]\n",
    "}\n",
    "print(\"Diccionario de personas haciendo dieta y sus dietas asociadas:\")\n",
    "for persona, dieta in personas_dietas.items():\n",
    "    print(persona + \" está siguiendo la siguiente dieta:\")\n",
    "    for comida in dieta:\n",
    "        print(\"- \" + comida)\n",
    "\n"
   ]
  },
  {
   "cell_type": "markdown",
   "metadata": {},
   "source": [
    "Mostrar cómo modificar un valor en una lista dentro de un diccionario y viceversa."
   ]
  },
  {
   "cell_type": "code",
   "execution_count": 24,
   "metadata": {},
   "outputs": [
    {
     "name": "stdout",
     "output_type": "stream",
     "text": [
      "Dieta actualizada de Carlos: ['pollo a la plancha', 'ensalada de tomate y pepino', 'arroz integral']\n"
     ]
    }
   ],
   "source": [
    "personas_dietas = {\n",
    "    \"Carlos\": [\"pollo a la plancha\", \"ensalada verde\", \"arroz integral\"],\n",
    "    \"Axel\": [\"salmón al horno\", \"brócoli al vapor\", \"quinoa\"],\n",
    "    \"Jacinta\": [\"batido de proteínas\", \"ensalada de frutas\", \"avena\"]\n",
    "}\n",
    "personas_dietas[\"Carlos\"][1] = \"ensalada de tomate y pepino\"\n",
    "print(\"Dieta actualizada de Carlos:\", personas_dietas[\"Carlos\"])"
   ]
  }
 ],
 "metadata": {
  "kernelspec": {
   "display_name": "Python 3",
   "language": "python",
   "name": "python3"
  },
  "language_info": {
   "codemirror_mode": {
    "name": "ipython",
    "version": 3
   },
   "file_extension": ".py",
   "mimetype": "text/x-python",
   "name": "python",
   "nbconvert_exporter": "python",
   "pygments_lexer": "ipython3",
   "version": "3.12.0"
  }
 },
 "nbformat": 4,
 "nbformat_minor": 2
}
